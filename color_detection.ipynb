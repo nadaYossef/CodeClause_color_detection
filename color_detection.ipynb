{
 "cells": [
  {
   "cell_type": "code",
   "execution_count": 1,
   "metadata": {
    "_cell_guid": "b1076dfc-b9ad-4769-8c92-a6c4dae69d19",
    "_uuid": "8f2839f25d086af736a60e9eeb907d3b93b6e0e5",
    "execution": {
     "iopub.execute_input": "2023-07-15T20:58:00.846818Z",
     "iopub.status.busy": "2023-07-15T20:58:00.846407Z",
     "iopub.status.idle": "2023-07-15T20:58:00.880862Z",
     "shell.execute_reply": "2023-07-15T20:58:00.879736Z",
     "shell.execute_reply.started": "2023-07-15T20:58:00.846785Z"
    }
   },
   "outputs": [
    {
     "name": "stdout",
     "output_type": "stream",
     "text": [
      "/kaggle/input/color-detection-data-set/colors.csv\n",
      "/kaggle/input/color-detection-data-set/colorpic.jpg\n"
     ]
    }
   ],
   "source": [
    "# This Python 3 environment comes with many helpful analytics libraries installed\n",
    "# It is defined by the kaggle/python Docker image: https://github.com/kaggle/docker-python\n",
    "# For example, here's several helpful packages to load\n",
    "\n",
    "import numpy as np # linear algebra\n",
    "import pandas as pd # data processing, CSV file I/O (e.g. pd.read_csv)\n",
    "\n",
    "# Input data files are available in the read-only \"../input/\" directory\n",
    "# For example, running this (by clicking run or pressing Shift+Enter) will list all files under the input directory\n",
    "\n",
    "import os\n",
    "for dirname, _, filenames in os.walk('/kaggle/input'):\n",
    "    for filename in filenames:\n",
    "        print(os.path.join(dirname, filename))\n",
    "\n",
    "# You can write up to 20GB to the current directory (/kaggle/working/) that gets preserved as output when you create a version using \"Save & Run All\" \n",
    "# You can also write temporary files to /kaggle/temp/, but they won't be saved outside of the current session"
   ]
  },
  {
   "cell_type": "code",
   "execution_count": 2,
   "metadata": {
    "execution": {
     "iopub.execute_input": "2023-07-15T21:01:20.795909Z",
     "iopub.status.busy": "2023-07-15T21:01:20.795466Z",
     "iopub.status.idle": "2023-07-15T21:01:21.016965Z",
     "shell.execute_reply": "2023-07-15T21:01:21.016140Z",
     "shell.execute_reply.started": "2023-07-15T21:01:20.795876Z"
    }
   },
   "outputs": [],
   "source": [
    "import pandas as pd\n",
    "import numpy as np\n",
    "import cv2"
   ]
  },
  {
   "cell_type": "code",
   "execution_count": 9,
   "metadata": {
    "execution": {
     "iopub.execute_input": "2023-07-15T21:03:20.519456Z",
     "iopub.status.busy": "2023-07-15T21:03:20.518662Z",
     "iopub.status.idle": "2023-07-15T21:03:20.536300Z",
     "shell.execute_reply": "2023-07-15T21:03:20.535131Z",
     "shell.execute_reply.started": "2023-07-15T21:03:20.519414Z"
    }
   },
   "outputs": [
    {
     "data": {
      "text/html": [
       "<div>\n",
       "<style scoped>\n",
       "    .dataframe tbody tr th:only-of-type {\n",
       "        vertical-align: middle;\n",
       "    }\n",
       "\n",
       "    .dataframe tbody tr th {\n",
       "        vertical-align: top;\n",
       "    }\n",
       "\n",
       "    .dataframe thead th {\n",
       "        text-align: right;\n",
       "    }\n",
       "</style>\n",
       "<table border=\"1\" class=\"dataframe\">\n",
       "  <thead>\n",
       "    <tr style=\"text-align: right;\">\n",
       "      <th></th>\n",
       "      <th>color</th>\n",
       "      <th>color name</th>\n",
       "      <th>hex</th>\n",
       "      <th>R</th>\n",
       "      <th>G</th>\n",
       "      <th>B</th>\n",
       "    </tr>\n",
       "  </thead>\n",
       "  <tbody>\n",
       "    <tr>\n",
       "      <th>0</th>\n",
       "      <td>air_force_blue_raf</td>\n",
       "      <td>Air Force Blue (Raf)</td>\n",
       "      <td>#5d8aa8</td>\n",
       "      <td>93</td>\n",
       "      <td>138</td>\n",
       "      <td>168</td>\n",
       "    </tr>\n",
       "    <tr>\n",
       "      <th>1</th>\n",
       "      <td>air_force_blue_usaf</td>\n",
       "      <td>Air Force Blue (Usaf)</td>\n",
       "      <td>#00308f</td>\n",
       "      <td>0</td>\n",
       "      <td>48</td>\n",
       "      <td>143</td>\n",
       "    </tr>\n",
       "    <tr>\n",
       "      <th>2</th>\n",
       "      <td>air_superiority_blue</td>\n",
       "      <td>Air Superiority Blue</td>\n",
       "      <td>#72a0c1</td>\n",
       "      <td>114</td>\n",
       "      <td>160</td>\n",
       "      <td>193</td>\n",
       "    </tr>\n",
       "    <tr>\n",
       "      <th>3</th>\n",
       "      <td>alabama_crimson</td>\n",
       "      <td>Alabama Crimson</td>\n",
       "      <td>#a32638</td>\n",
       "      <td>163</td>\n",
       "      <td>38</td>\n",
       "      <td>56</td>\n",
       "    </tr>\n",
       "    <tr>\n",
       "      <th>4</th>\n",
       "      <td>alice_blue</td>\n",
       "      <td>Alice Blue</td>\n",
       "      <td>#f0f8ff</td>\n",
       "      <td>240</td>\n",
       "      <td>248</td>\n",
       "      <td>255</td>\n",
       "    </tr>\n",
       "  </tbody>\n",
       "</table>\n",
       "</div>"
      ],
      "text/plain": [
       "                  color             color name      hex    R    G    B\n",
       "0    air_force_blue_raf   Air Force Blue (Raf)  #5d8aa8   93  138  168\n",
       "1   air_force_blue_usaf  Air Force Blue (Usaf)  #00308f    0   48  143\n",
       "2  air_superiority_blue   Air Superiority Blue  #72a0c1  114  160  193\n",
       "3       alabama_crimson        Alabama Crimson  #a32638  163   38   56\n",
       "4            alice_blue             Alice Blue  #f0f8ff  240  248  255"
      ]
     },
     "execution_count": 9,
     "metadata": {},
     "output_type": "execute_result"
    }
   ],
   "source": [
    "index = [\"color\", \"color name\", \"hex\", \"R\", \"G\", \"B\"]\n",
    "df = pd.read_csv('/kaggle/input/color-detection-data-set/colors.csv',names=index)\n",
    "df.head()"
   ]
  },
  {
   "cell_type": "code",
   "execution_count": 10,
   "metadata": {
    "execution": {
     "iopub.execute_input": "2023-07-15T21:09:40.886889Z",
     "iopub.status.busy": "2023-07-15T21:09:40.886475Z",
     "iopub.status.idle": "2023-07-15T21:09:40.942634Z",
     "shell.execute_reply": "2023-07-15T21:09:40.941487Z",
     "shell.execute_reply.started": "2023-07-15T21:09:40.886860Z"
    }
   },
   "outputs": [],
   "source": [
    "img_path = r'/kaggle/input/color-detection-data-set/colorpic.jpg'\n",
    "img = cv2.imread(img_path)"
   ]
  },
  {
   "cell_type": "code",
   "execution_count": 15,
   "metadata": {
    "execution": {
     "iopub.execute_input": "2023-07-15T21:29:16.271769Z",
     "iopub.status.busy": "2023-07-15T21:29:16.271306Z",
     "iopub.status.idle": "2023-07-15T21:29:16.311537Z",
     "shell.execute_reply": "2023-07-15T21:29:16.309996Z",
     "shell.execute_reply.started": "2023-07-15T21:29:16.271728Z"
    }
   },
   "outputs": [
    {
     "ename": "error",
     "evalue": "OpenCV(4.8.0) /io/opencv/modules/highgui/src/window.cpp:1255: error: (-2:Unspecified error) The function is not implemented. Rebuild the library with Windows, GTK+ 2.x or Cocoa support. If you are on Ubuntu or Debian, install libgtk2.0-dev and pkg-config, then re-run cmake or configure script in function 'cvNamedWindow'\n",
     "output_type": "error",
     "traceback": [
      "\u001b[0;31m---------------------------------------------------------------------------\u001b[0m",
      "\u001b[0;31merror\u001b[0m                                     Traceback (most recent call last)",
      "Cell \u001b[0;32mIn[15], line 1\u001b[0m\n\u001b[0;32m----> 1\u001b[0m \u001b[43mcv2\u001b[49m\u001b[38;5;241;43m.\u001b[39;49m\u001b[43mnamedWindow\u001b[49m\u001b[43m(\u001b[49m\u001b[38;5;124;43m\"\u001b[39;49m\u001b[38;5;124;43mimage_window\u001b[39;49m\u001b[38;5;124;43m\"\u001b[39;49m\u001b[43m,\u001b[49m\u001b[43m \u001b[49m\u001b[43mcv2\u001b[49m\u001b[38;5;241;43m.\u001b[39;49m\u001b[43mWINDOW_AUTOSIZE\u001b[49m\u001b[43m)\u001b[49m\n\u001b[1;32m      2\u001b[0m cv2\u001b[38;5;241m.\u001b[39mimshow(\u001b[38;5;124m'\u001b[39m\u001b[38;5;124mimage_window\u001b[39m\u001b[38;5;124m'\u001b[39m, img)\n",
      "\u001b[0;31merror\u001b[0m: OpenCV(4.8.0) /io/opencv/modules/highgui/src/window.cpp:1255: error: (-2:Unspecified error) The function is not implemented. Rebuild the library with Windows, GTK+ 2.x or Cocoa support. If you are on Ubuntu or Debian, install libgtk2.0-dev and pkg-config, then re-run cmake or configure script in function 'cvNamedWindow'\n"
     ]
    }
   ],
   "source": [
    "# show the image\n",
    "cv2.namedWindow(\"image_window\", cv2.WINDOW_AUTOSIZE)\n",
    "cv2.imshow('image_window', img)"
   ]
  },
  {
   "cell_type": "code",
   "execution_count": null,
   "metadata": {},
   "outputs": [],
   "source": [
    "def call_back_function (event, x,y,flags,param):\n",
    "  if event == cv2.EVENT_LBUTTONDBLCLK:\n",
    "        global b,g,r,xpos,ypos, clicked\n",
    "        clicked = True\n",
    "        xpos = x\n",
    "        ypos = y\n",
    "        b,g,r = img[y,x]\n",
    "        b = int(b)\n",
    "        g = int(g)\n",
    "        r = int(r)\n",
    "cv2.setMouseCallback(\"image_window\",call_back_function)"
   ]
  },
  {
   "cell_type": "code",
   "execution_count": null,
   "metadata": {},
   "outputs": [],
   "source": [
    "def get_color_name(R, G, B):\n",
    "    minimum = 10000\n",
    "    for i in range(len(csv)):\n",
    "        d = abs(R - int(csv.loc[i, \"R\"])) + abs(G - int(csv.loc[i, \"G\"])) + abs(B - int(csv.loc[i, \"B\"]))\n",
    "        if d <= minimum:\n",
    "            minimum = d\n",
    "            cname = csv.loc[i, \"color_name\"]\n",
    "    return cname"
   ]
  },
  {
   "cell_type": "code",
   "execution_count": null,
   "metadata": {},
   "outputs": [],
   "source": [
    "while True:\n",
    "\n",
    "    cv2.imshow(\"image\", img)\n",
    "    if clicked:\n",
    "\n",
    "        cv2.rectangle(img, (20, 20), (750, 60), (b, g, r), -1)\n",
    "\n",
    "        text = get_color_name(r, g, b) + ' R=' + str(r) + ' G=' + str(g) + ' B=' + str(b)\n",
    "\n",
    "\n",
    "        cv2.putText(img, text, (50, 50), 2, 0.8, (255, 255, 255), 2, cv2.LINE_AA)\n",
    "\n",
    "        if r + g + b >= 600:\n",
    "            cv2.putText(img, text, (50, 50), 2, 0.8, (0, 0, 0), 2, cv2.LINE_AA)\n",
    "\n",
    "        clicked = False\n",
    "\n",
    "    # Break the loop when user hits 'esc' key\n",
    "    if cv2.waitKey(20) & 0xFF == 27:\n",
    "        break\n",
    "\n",
    "cv2.destroyAllWindows()"
   ]
  }
 ],
 "metadata": {
  "kernelspec": {
   "display_name": "Python 3 (ipykernel)",
   "language": "python",
   "name": "python3"
  },
  "language_info": {
   "codemirror_mode": {
    "name": "ipython",
    "version": 3
   },
   "file_extension": ".py",
   "mimetype": "text/x-python",
   "name": "python",
   "nbconvert_exporter": "python",
   "pygments_lexer": "ipython3",
   "version": "3.9.12"
  }
 },
 "nbformat": 4,
 "nbformat_minor": 4
}
